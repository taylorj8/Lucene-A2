{
  "cells": [
    {
      "cell_type": "markdown",
      "metadata": {
        "id": "Tce3stUlHN0L"
      },
      "source": [
        "##### Copyright 2024 Google LLC."
      ]
    },
    {
      "cell_type": "code",
      "execution_count": null,
      "metadata": {
        "cellView": "form",
        "id": "tuOe1ymfHZPu"
      },
      "outputs": [],
      "source": [
        "#@title Licensed under the Apache License, Version 2.0 (the \"License\");\n",
        "# you may not use this file except in compliance with the License.\n",
        "# You may obtain a copy of the License at\n",
        "#\n",
        "# https://www.apache.org/licenses/LICENSE-2.0\n",
        "#\n",
        "# Unless required by applicable law or agreed to in writing, software\n",
        "# distributed under the License is distributed on an \"AS IS\" BASIS,\n",
        "# WITHOUT WARRANTIES OR CONDITIONS OF ANY KIND, either express or implied.\n",
        "# See the License for the specific language governing permissions and\n",
        "# limitations under the License."
      ]
    },
    {
      "cell_type": "markdown",
      "metadata": {
        "id": "db29b8d4247e"
      },
      "source": [
        "This tutorial shows you how to get started with the Gemini API using the Python SDK."
      ]
    },
    {
      "cell_type": "code",
      "execution_count": null,
      "metadata": {
        "id": "J6Pd9SFJ1yVi",
        "outputId": "0d1aa6f7-7ddf-4193-e4d0-2d5f00366a22"
      },
      "outputs": [
        {
          "name": "stdout",
          "output_type": "stream",
          "text": [
            "\u001b[?25l     \u001b[90m━━━━━━━━━━━━━━━━━━━━━━━━━━━━━━━━━━━━━━━━\u001b[0m \u001b[32m0.0/137.4 kB\u001b[0m \u001b[31m?\u001b[0m eta \u001b[36m-:--:--\u001b[0m\r\u001b[2K     \u001b[91m━━\u001b[0m\u001b[91m╸\u001b[0m\u001b[90m━━━━━━━━━━━━━━━━━━━━━━━━━━━━━━━━━━━━━\u001b[0m \u001b[32m10.2/137.4 kB\u001b[0m \u001b[31m?\u001b[0m eta \u001b[36m-:--:--\u001b[0m\r\u001b[2K     \u001b[91m━━━━━━━━━━━\u001b[0m\u001b[91m╸\u001b[0m\u001b[90m━━━━━━━━━━━━━━━━━━━━━━━━━━━━\u001b[0m \u001b[32m41.0/137.4 kB\u001b[0m \u001b[31m498.4 kB/s\u001b[0m eta \u001b[36m0:00:01\u001b[0m\r\u001b[2K     \u001b[91m━━━━━━━━━━━━━━━━━━━━━━━━━━━━━━━━━━━━━━\u001b[0m\u001b[91m╸\u001b[0m\u001b[90m━\u001b[0m \u001b[32m133.1/137.4 kB\u001b[0m \u001b[31m1.3 MB/s\u001b[0m eta \u001b[36m0:00:01\u001b[0m\r\u001b[2K     \u001b[90m━━━━━━━━━━━━━━━━━━━━━━━━━━━━━━━━━━━━━━━━\u001b[0m \u001b[32m137.4/137.4 kB\u001b[0m \u001b[31m1.1 MB/s\u001b[0m eta \u001b[36m0:00:00\u001b[0m\n",
            "\u001b[?25h"
          ]
        }
      ],
      "source": [
        "!pip install -q -U google-generativeai"
      ]
    },
    {
      "cell_type": "code",
      "execution_count": null,
      "metadata": {
        "id": "HTiaTu6O1LRC"
      },
      "outputs": [],
      "source": [
        "# Import the Python SDK\n",
        "import google.generativeai as genai\n",
        "# Used to securely store your API key\n",
        "from google.colab import userdata\n",
        "\n",
        "GOOGLE_API_KEY=userdata.get('GOOGLE_API_KEY')\n",
        "genai.configure(api_key=GOOGLE_API_KEY)"
      ]
    },
    {
      "cell_type": "code",
      "execution_count": null,
      "metadata": {
        "id": "s-JqXcDe2hZ_"
      },
      "outputs": [],
      "source": [
        "model = genai.GenerativeModel('gemini-pro')"
      ]
    },
    {
      "cell_type": "markdown",
      "metadata": {
        "id": "nXxypzJH4MUl"
      },
      "source": [
        "## Generate text"
      ]
    },
    {
      "cell_type": "code",
      "execution_count": null,
      "metadata": {
        "id": "j51mcrLD4Y2W",
        "outputId": "a8155aa0-a48c-4ce8-fbd9-46d9a9606847",
        "colab": {
          "base_uri": "https://localhost:8080/",
          "height": 399
        }
      },
      "outputs": [
        {
          "output_type": "stream",
          "name": "stdout",
          "text": [
            "EXPANDED QUERY 1\n",
            "\"Synthesize information about effective prevention and treatment techniques for Lyme disease, including early detection, common symptoms, and current medical treatments. Discuss preventive measures such as tick repellents and protective clothing. Also include reports of research on new and innovative approaches to treating Lyme disease, including vaccines and novel therapies.\"\n",
            "EXPANDED QUERY 2\n",
            "Find specific accounts of selfless heroic acts by individuals or small groups that have benefited others or a cause, excluding general statements about heroic acts.\n",
            "EXPANDED QUERY 3\n",
            "Provide a comprehensive overview of the extent of U.S. governmental and private investment in sub-Saharan Africa, including all references to U.S. assistance and contributions through international aid organizations.\n",
            "EXPANDED QUERY 4\n",
            "\"Provide in-depth information about the potential applications of supercritical fluids for environmental protection, specifically focusing on processes that involve pressurization to achieve supercriticality. Include examples of using these fluids for pollutant extraction, waste treatment, and carbon dioxide capture, and discuss their distinct advantages and limitations compared to traditional methods.\"\n",
            "EXPANDED QUERY 5\n",
            "Identify all countries other than the United States where women have been installed as church pastors or where such installations are under consideration, as evidenced by official documents.\n",
            "EXPANDED QUERY 6\n",
            "\"Identify countries, regions, or specific tourist destinations where tourists are at increased risk of severe or fatal violence, providing examples from relevant documents that document incidents of harm. Exclude isolated events.\"\n",
            "EXPANDED QUERY 7\n",
            "Provide comprehensive details about the most recent developments and applications of the stirling engine (or stirling cycle), including advancements in efficiency, reliability, and new applications in power generation, refrigeration, and other fields.\n",
            "EXPANDED QUERY 8\n",
            "\"Incidences of shipwrecks where weather conditions were a primary or contributing cause of the vessel's loss in both international and coastal waters; include details of the specific weather conditions involved, the location and date of the incident, and the type of ship affected.\"\n",
            "EXPANDED QUERY 9\n",
            "\"Provide a detailed analysis of the causes and implications of current antibiotic ineffectiveness against infections, including reasons for the ineffectiveness, ongoing efforts by pharmaceutical companies and government agencies to develop new drugs, current testing phases, potential new drugs, and the projected timeline for the availability of new and effective antibiotics\"\n",
            "EXPANDED QUERY 10\n",
            "Provide a detailed analysis of the late Jordanian King Hussein's significant role in promoting peace in the Middle East, with specific mention of his relationship with Israel, his ongoing efforts towards the peace process over the years, and a focus on the peace process itself rather than Jordan's general relations.\n"
          ]
        }
      ],
      "source": [
        "queries = [\n",
        "   # \"killer bee attacks: identify instances of attacks on humans by africanized (killer) bees. relevant documents must cite a specific instance of a human attacked by killer bees. documents that note migration patterns or report attacks on other animals are not relevant unless they also cite an attack on a human.\",\n",
        "    \"lyme disease: how do you prevent and treat lyme disease? documents that discuss current prevention and treatment techniques for lyme disease are relevant. reports of research on new treatments of the disease are also relevant.\",\n",
        "    \"heroic acts: find accounts of selfless heroic acts by individuals or small groups for the benefit of others or a cause. relevant documents will contain a of specific acts. general statements concerning heroic acts are not relevant.\",\n",
        "    \"u.s., investment, africa: what is the extent of u.s. (government and private) investment in sub-saharan africa? all references to u.s. governmental and private assistance to sub-saharan africa are relevant. documents discussing contributions by reason of u.s. membership in international aid organizations are also relevant.\",\n",
        "    \"supercritical fluids: what are the potential uses for supercritical fluids as an environmental protection measure? to be relevant, a document must indicate that the fluid involved is achieved by a process of pressurization producing the supercritical fluid.\",\n",
        "    \"women clergy: what other countries besides the united states are considering or have approved women as clergy persons? to be relevant, a document must indicate either a country where a woman has been installed as clergy or a country that is considering such an installation. the clergy position must be as church pastor rather than some other church capacity (e.g., nun or choir member).\",\n",
        "    \"tourists, violence: where are tourists likely to be subjected to acts of violence causing bodily harm or death? a relevant document must contain accounts of known harm to tourists. evidence of single, isolated incidents are not relevant.\",\n",
        "    \"stirling engine: what new developments and applications are there for the stirling engine? any discussion of new developments and applications of the stirling engine (also known as the stirling cycle) are relevant.\",\n",
        "    \"ship losses: identify instances in which weather was a main or contributing factor in the loss of a ship at sea. any ship loss due to weather is relevant, either in international or coastal waters.\",\n",
        "    \"antibiotics ineffectiveness: what has caused the current ineffectiveness of antibiotics against infections and what is the prognosis for new drugs? to be relevant, a document must discuss the reasons or causes for the ineffectiveness of current antibiotics. relevant documents may also include efforts by pharmaceutical companies and federal government agencies to find new cures, updating current testing phases, new drugs being tested, and the prognosis for the availability of new and effective antibiotics.\",\n",
        "    \"king hussein, peace: how significant a figure over the years was the late jordanian king hussein in furthering peace in the middle east? a relevant document must include mention of israel; king hussein himself as opposed to other jordanian officials; discussion of the king's on-going, previous or upcoming efforts; and efforts pertinent to the peace process, not merely jordan's relationship with other middle-east countries or the u.s.\"\n",
        "    ]\n",
        "ind = 1\n",
        "for query in queries:\n",
        "\n",
        "    print(f\"EXPANDED QUERY {ind}\")\n",
        "    ind += 1\n",
        "    prompt_template = f\"\"\"\n",
        "    You are an intelligent assistant that helps expand user queries into detailed and context-rich statements. For each query provided, expand it by adding additional details, clarifications, and relevant context to make the query more comprehensive and informative.\n",
        "\n",
        "    Examples:\n",
        "\n",
        "    1. **Original Query:**\n",
        "      \"What are the latest developments in robotic technology?\"\n",
        "      **Expanded Query:**\n",
        "      \"Provide detailed information about the latest developments in robotic technology, including advancements in robotics applications such as industrial automation, healthcare robotics, and autonomous vehicles. Include recent innovations in AI integration, sensors, and robotic hardware, along with any breakthroughs announced in the last two years.\"\n",
        "\n",
        "    2. **Original Query:**\n",
        "      \"How do you prevent and treat Lyme disease?\"\n",
        "      **Expanded Query:**\n",
        "      \"Describe effective prevention and treatment methods for Lyme disease. Include information about early detection, common symptoms, and current medical treatments such as antibiotics. Discuss preventive measures like tick repellents and protective clothing, as well as ongoing research into vaccines and other innovative approaches.\"\n",
        "\n",
        "    3. **Original Query:**\n",
        "      \"What unexpected or unexplained cosmic events have been detected?\"\n",
        "      **Expanded Query:**\n",
        "      \"Identify and describe unexpected or unexplained cosmic events or celestial phenomena that have been detected. Include examples such as new types of radiation bursts, mysterious supernovae, unclassified interstellar objects, or anomalies in gravitational wave data. Explain their significance in advancing our understanding of astrophysics and cosmology.\"\n",
        "\n",
        "    Now, expand the following query, provide a single line expanded query:\n",
        "    \"{query}\"\n",
        "    \"\"\"\n",
        "\n",
        "    response = model.generate_content(prompt_template)\n",
        "    print(response.text)"
      ]
    }
  ],
  "metadata": {
    "colab": {
      "provenance": []
    },
    "kernelspec": {
      "display_name": "Python 3",
      "name": "python3"
    }
  },
  "nbformat": 4,
  "nbformat_minor": 0
}